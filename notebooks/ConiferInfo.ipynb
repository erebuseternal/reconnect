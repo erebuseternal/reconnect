{
 "cells": [
  {
   "cell_type": "code",
   "execution_count": 26,
   "id": "d1d23309-3acd-4f53-88b5-70353f4a5910",
   "metadata": {},
   "outputs": [
    {
     "data": {
      "text/plain": [
       "defaultdict(set, {})"
      ]
     },
     "execution_count": 26,
     "metadata": {},
     "output_type": "execute_result"
    }
   ],
   "source": [
    "import json\n",
    "from collections import defaultdict\n",
    "\n",
    "with open('../data/conifer_info.json', 'r') as fh:\n",
    "    CONIFER_INFO = json.load(fh)\n",
    "    \n",
    "array_features = ['bundle_size']\n",
    "size_features = ['needle_length', 'cone_length', 'diameter', 'height']\n",
    "attribute_features = ['cone_scale_descriptors']\n",
    "\n",
    "indistinguishable = defaultdict(set)\n",
    "for reference_species, reference_info in CONIFER_INFO.items():\n",
    "    for species, info in CONIFER_INFO.items():\n",
    "        if species == reference_species: continue\n",
    "        \n",
    "        distinguishing_feature = False\n",
    "        for feature in array_features:\n",
    "            r_start, r_end = reference_info['features'][feature]\n",
    "            start, end = info['features'][feature]\n",
    "            distinguishing_feature |= r_start > end or start > r_end\n",
    "        for feature in size_features:\n",
    "            r_start, r_end = reference_info['features'][feature]\n",
    "            start, end = info['features'][feature]\n",
    "            distinguishing_feature |= r_start >= end or start >= r_end\n",
    "        for feature in attribute_features:\n",
    "            distinguishing_feature |= (\n",
    "                set(info['features'][feature]) != set(reference_info['features'][feature])\n",
    "            )\n",
    "        if not distinguishing_feature:\n",
    "            indistinguishable[reference_species].add(species)\n",
    "            \n",
    "indistinguishable"
   ]
  },
  {
   "cell_type": "code",
   "execution_count": null,
   "id": "1be5d37a-67bd-4569-bfa5-5ce413b943c2",
   "metadata": {},
   "outputs": [],
   "source": []
  }
 ],
 "metadata": {
  "kernelspec": {
   "display_name": "Python 3",
   "language": "python",
   "name": "python3"
  },
  "language_info": {
   "codemirror_mode": {
    "name": "ipython",
    "version": 3
   },
   "file_extension": ".py",
   "mimetype": "text/x-python",
   "name": "python",
   "nbconvert_exporter": "python",
   "pygments_lexer": "ipython3",
   "version": "3.6.9"
  }
 },
 "nbformat": 4,
 "nbformat_minor": 5
}
