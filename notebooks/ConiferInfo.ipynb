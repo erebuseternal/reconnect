{
 "cells": [
  {
   "cell_type": "code",
   "execution_count": 26,
   "id": "d1d23309-3acd-4f53-88b5-70353f4a5910",
   "metadata": {},
   "outputs": [
    {
     "data": {
      "text/plain": [
       "defaultdict(set, {})"
      ]
     },
     "execution_count": 26,
     "metadata": {},
     "output_type": "execute_result"
    }
   ],
   "source": [
    "import json\n",
    "from collections import defaultdict\n",
    "\n",
    "with open('../data/conifer_info.json', 'r') as fh:\n",
    "    CONIFER_INFO = json.load(fh)\n",
    "    \n",
    "array_features = ['bundle_size']\n",
    "size_features = ['needle_length', 'cone_length', 'diameter', 'height']\n",
    "attribute_features = ['cone_scale_descriptors']\n",
    "\n",
    "indistinguishable = defaultdict(set)\n",
    "for reference_species, reference_info in CONIFER_INFO.items():\n",
    "    for species, info in CONIFER_INFO.items():\n",
    "        if species == reference_species: continue\n",
    "        \n",
    "        distinguishing_feature = False\n",
    "        for feature in array_features:\n",
    "            r_start, r_end = reference_info['features'][feature]\n",
    "            start, end = info['features'][feature]\n",
    "            distinguishing_feature |= r_start > end or start > r_end\n",
    "        for feature in size_features:\n",
    "            r_start, r_end = reference_info['features'][feature]\n",
    "            start, end = info['features'][feature]\n",
    "            distinguishing_feature |= r_start >= end or start >= r_end\n",
    "        for feature in attribute_features:\n",
    "            distinguishing_feature |= (\n",
    "                set(info['features'][feature]) != set(reference_info['features'][feature])\n",
    "            )\n",
    "        if not distinguishing_feature:\n",
    "            indistinguishable[reference_species].add(species)\n",
    "            \n",
    "indistinguishable"
   ]
  },
  {
   "cell_type": "code",
   "execution_count": 75,
   "id": "1be5d37a-67bd-4569-bfa5-5ce413b943c2",
   "metadata": {},
   "outputs": [
    {
     "data": {
      "text/plain": [
       "({('cone_scale_descriptors', 'raised'): 16.61111111111111,\n",
       "  ('cone_scale_descriptors', 'keeled'): 17.944444444444443,\n",
       "  ('cone_scale_descriptors', 'bristled'): 16.0,\n",
       "  ('cone_scale_descriptors', 'spine'): 13.5,\n",
       "  ('cone_scale_descriptors', 'four_sided'): 11.277777777777779},\n",
       " {('bundle_size', 2.5): 8.0,\n",
       "  ('height', 21.5): 8.972222222222221,\n",
       "  ('needle_length', 10.5): 9.0,\n",
       "  ('cone_length', 9.5): 8.972222222222221,\n",
       "  ('diameter', 0.6499999999999999): 8.88888888888889})"
      ]
     },
     "execution_count": 75,
     "metadata": {},
     "output_type": "execute_result"
    }
   ],
   "source": [
    "def get_expectation(options, total=None):\n",
    "    total = sum(options) if not total else total\n",
    "    return sum(option * (total - option) / total for option in options)\n",
    "\n",
    "def find_split(ranges):\n",
    "    ends = defaultdict(int)\n",
    "    for r in ranges:\n",
    "        ends[r[1]] += 1\n",
    "    starts = defaultdict(int)\n",
    "    for r in ranges:\n",
    "        starts[r[0]] += 1\n",
    "        \n",
    "    events = []\n",
    "    for key in starts:\n",
    "        if key in ends:\n",
    "            events.append((key, 'both'))\n",
    "        else:\n",
    "            events.append((key, 'start'))\n",
    "    for key in ends:\n",
    "        if key not in starts:\n",
    "            events.append((key, 'end'))\n",
    "            \n",
    "    fuzz = min(\n",
    "        [\n",
    "            e1 - e2\n",
    "            for e1, e2 in zip(\n",
    "                sorted(e[0] for e in list(events) + [(0, 'n/a')])[1:],\n",
    "                sorted(e[0] for e in list(events) + [(0, 'n/a')])[:-1]\n",
    "            ) if e1 != e2\n",
    "        ]\n",
    "    ) / 2.\n",
    "            \n",
    "        \n",
    "    total = len(ranges)\n",
    "    total_pos = 0\n",
    "    total_neg = len(ranges)\n",
    "    split_point = fuzz\n",
    "    expectation = get_expectation([total_pos, total_neg])\n",
    "    for event, kind in sorted(events):\n",
    "        if kind in ('end', 'both'):\n",
    "            total_pos += ends[event]\n",
    "        if kind == ('start', 'both'):\n",
    "            total_neg -= starts[event]\n",
    "        new_expectation = get_expectation([total_pos, total_neg], total)\n",
    "        if new_expectation < expectation:\n",
    "            break\n",
    "        expectation = new_expectation\n",
    "        split_point = event + fuzz\n",
    "    return split_point, expectation\n",
    "\n",
    "def build_questions(species, categorical_questions=[], range_questions=[]):\n",
    "    ranged_question_scores, categorical_question_scores = {}, {}\n",
    "    for feature, category_id in categorical_questions:\n",
    "        options = [0, 0]\n",
    "        for info in species.values():\n",
    "            index = 0 if category_id in info['features'][feature] else 1\n",
    "            options[index] += 1\n",
    "        categorical_question_scores[(feature, category_id)] = get_expectation(options)\n",
    "    for feature in range_questions:\n",
    "        ranges = [info['features'][feature] for info in species.values()]\n",
    "        split, expectation = find_split(ranges)\n",
    "        ranged_question_scores[(feature, split)] = expectation\n",
    "    return categorical_question_scores, ranged_question_scores\n",
    "\n",
    "build_questions(\n",
    "    CONIFER_INFO, \n",
    "    categorical_questions=[\n",
    "        ('cone_scale_descriptors', 'raised'),\n",
    "        ('cone_scale_descriptors', 'keeled'),\n",
    "        ('cone_scale_descriptors', 'bristled'),\n",
    "        ('cone_scale_descriptors', 'spine'),\n",
    "        ('cone_scale_descriptors', 'four_sided')\n",
    "    ],\n",
    "    range_questions=[\n",
    "        'bundle_size',\n",
    "        'height',\n",
    "        'needle_length',\n",
    "        'cone_length',\n",
    "        'diameter'\n",
    "    ]\n",
    ")"
   ]
  },
  {
   "cell_type": "code",
   "execution_count": 80,
   "id": "554bc75b-9d9d-477c-9629-443ef2b32457",
   "metadata": {},
   "outputs": [
    {
     "name": "stdout",
     "output_type": "stream",
     "text": [
      "species left 36\n",
      "('cone_scale_descriptors', 'keeled') 17.944444444444443\n"
     ]
    },
    {
     "name": "stdin",
     "output_type": "stream",
     "text": [
      " n\n"
     ]
    },
    {
     "name": "stdout",
     "output_type": "stream",
     "text": [
      "species left 17\n",
      "('cone_scale_descriptors', 'bristled') 7.764705882352941\n"
     ]
    },
    {
     "name": "stdin",
     "output_type": "stream",
     "text": [
      " y\n"
     ]
    },
    {
     "name": "stdout",
     "output_type": "stream",
     "text": [
      "species left 6\n",
      "('cone_scale_descriptors', 'four_sided') 3.0\n"
     ]
    },
    {
     "name": "stdin",
     "output_type": "stream",
     "text": [
      " y\n"
     ]
    },
    {
     "name": "stdout",
     "output_type": "stream",
     "text": [
      "species left 3\n",
      "('needle_length', 4.5) 0.6666666666666666\n"
     ]
    },
    {
     "name": "stdin",
     "output_type": "stream",
     "text": [
      " n\n"
     ]
    },
    {
     "name": "stdout",
     "output_type": "stream",
     "text": [
      "species left 3\n",
      "('height', 9.5) 0.6666666666666666\n"
     ]
    },
    {
     "name": "stdin",
     "output_type": "stream",
     "text": [
      " y\n"
     ]
    },
    {
     "name": "stdout",
     "output_type": "stream",
     "text": [
      "species left 1\n"
     ]
    },
    {
     "data": {
      "text/plain": [
       "{'Pinus aristata': {'common_names': ['bristlecone pine'],\n",
       "  'features': {'bundle_size': [5, 5],\n",
       "   'needle_length': [2, 4],\n",
       "   'cone_length': [6, 9],\n",
       "   'diameter': [0.3, 0.8],\n",
       "   'height': [6, 12],\n",
       "   'cone_scale_descriptors': ['four_sided', 'bristled']}}}"
      ]
     },
     "execution_count": 80,
     "metadata": {},
     "output_type": "execute_result"
    }
   ],
   "source": [
    "c_questions=[\n",
    "    ('cone_scale_descriptors', 'raised'),\n",
    "    ('cone_scale_descriptors', 'keeled'),\n",
    "    ('cone_scale_descriptors', 'bristled'),\n",
    "    ('cone_scale_descriptors', 'spine'),\n",
    "    ('cone_scale_descriptors', 'four_sided')\n",
    "]\n",
    "r_questions=[\n",
    "    'bundle_size',\n",
    "    'height',\n",
    "    'needle_length',\n",
    "    'cone_length',\n",
    "    'diameter'\n",
    "]\n",
    "species = CONIFER_INFO\n",
    "while r_questions or c_questions:\n",
    "    print('species left', len(species))\n",
    "    c_scores, r_scores = build_questions(species, c_questions, r_questions)\n",
    "    best_c_score = 0\n",
    "    best_r_score = 0\n",
    "    if c_scores:\n",
    "        best_c_score, best_c = sorted([(score, q) for q, score in c_scores.items()], reverse=True)[0]\n",
    "    if r_scores:\n",
    "        best_r_score, best_r = sorted([(score, q) for q, score in r_scores.items()], reverse=True)[0]\n",
    "    if not best_c_score and not best_r_score:\n",
    "        break\n",
    "    if best_r_score > best_c_score:\n",
    "        print(best_r, best_r_score)\n",
    "        answer = input()\n",
    "        if answer == 'y':\n",
    "            species = {\n",
    "                name: info\n",
    "                for name, info in species.items()\n",
    "                if info['features'][best_r[0]][1] > best_r[1]\n",
    "            }\n",
    "        elif answer == 'n':\n",
    "            species = {\n",
    "                name: info\n",
    "                for name, info in species.items()\n",
    "                if info['features'][best_r[0]][0] < best_r[1]\n",
    "            }\n",
    "        r_questions = [q for q in r_questions if q != best_r[0]]\n",
    "    else:\n",
    "        print(best_c, best_c_score)\n",
    "        answer = input()\n",
    "        if answer == 'y':\n",
    "            species = {\n",
    "                name: info\n",
    "                for name, info in species.items()\n",
    "                if best_c[1] in info['features'][best_c[0]]\n",
    "            }\n",
    "        elif answer == 'n':\n",
    "            species = {\n",
    "                name: info\n",
    "                for name, info in species.items()\n",
    "                if best_c[1] not in info['features'][best_c[0]]\n",
    "            }\n",
    "        c_questions = [q for q in c_questions if q != best_c]\n",
    "species     "
   ]
  },
  {
   "cell_type": "code",
   "execution_count": null,
   "id": "2ba76f85-4a28-4b99-9a01-6dd0e0d37742",
   "metadata": {},
   "outputs": [],
   "source": []
  }
 ],
 "metadata": {
  "kernelspec": {
   "display_name": "Python 3",
   "language": "python",
   "name": "python3"
  },
  "language_info": {
   "codemirror_mode": {
    "name": "ipython",
    "version": 3
   },
   "file_extension": ".py",
   "mimetype": "text/x-python",
   "name": "python",
   "nbconvert_exporter": "python",
   "pygments_lexer": "ipython3",
   "version": "3.6.9"
  }
 },
 "nbformat": 4,
 "nbformat_minor": 5
}
